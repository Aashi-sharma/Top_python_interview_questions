{
  "nbformat": 4,
  "nbformat_minor": 0,
  "metadata": {
    "colab": {
      "provenance": [],
      "authorship_tag": "ABX9TyPi2midEA+TVnkSf66sEswO",
      "include_colab_link": true
    },
    "kernelspec": {
      "name": "python3",
      "display_name": "Python 3"
    },
    "language_info": {
      "name": "python"
    }
  },
  "cells": [
    {
      "cell_type": "markdown",
      "metadata": {
        "id": "view-in-github",
        "colab_type": "text"
      },
      "source": [
        "<a href=\"https://colab.research.google.com/github/Aashi-sharma/Top_python_interview_questions/blob/main/Python_coding_questions.ipynb\" target=\"_parent\"><img src=\"https://colab.research.google.com/assets/colab-badge.svg\" alt=\"Open In Colab\"/></a>"
      ]
    },
    {
      "cell_type": "markdown",
      "source": [
        "**1. Fibboancci series**\n",
        "\n",
        "> Python fibonacci series upto nth term\n",
        "0,1,1,2,3,5,8....\n",
        "In a Fibonacci series, every term is the sum of the preceding two terms, starting from 0 and 1 as the first and second terms.\n",
        "\n"
      ],
      "metadata": {
        "id": "UWuRRz_QwsdQ"
      }
    },
    {
      "cell_type": "code",
      "source": [
        "n1,n2,sum = 0,1,0\n",
        "n = int(input())\n",
        "for i in range (n):\n",
        "  sum = n1+ n2\n",
        "  n1 = n2\n",
        "  n2 = sum\n",
        "  print(sum)"
      ],
      "metadata": {
        "colab": {
          "base_uri": "https://localhost:8080/"
        },
        "id": "H0nmguBHw2PM",
        "outputId": "c09c9959-6ba9-4613-9ac0-b1b1c75f0d65"
      },
      "execution_count": 1,
      "outputs": [
        {
          "output_type": "stream",
          "name": "stdout",
          "text": [
            "5\n",
            "1\n",
            "2\n",
            "3\n",
            "5\n",
            "8\n"
          ]
        }
      ]
    },
    {
      "cell_type": "markdown",
      "source": [
        "**2. Pallindrome check**"
      ],
      "metadata": {
        "id": "aPRduCC4ySKW"
      }
    },
    {
      "cell_type": "code",
      "source": [
        "input_string = input()\n",
        "is_pallindrome = False\n",
        "n = len(input_string)\n",
        "for i in range( n // 2):\n",
        "  if input_string[i] != input_string[n-i-1]:\n",
        "    is_pallindrome = False\n",
        "  else:\n",
        "    is_pallindrome = True\n",
        "\n",
        "print(is_pallindrome)\n"
      ],
      "metadata": {
        "colab": {
          "base_uri": "https://localhost:8080/"
        },
        "id": "c9z1KAktyWPK",
        "outputId": "b000765b-feef-4b56-beda-d701b3bd484b"
      },
      "execution_count": 2,
      "outputs": [
        {
          "output_type": "stream",
          "name": "stdout",
          "text": [
            "abcdcba\n",
            "True\n"
          ]
        }
      ]
    },
    {
      "cell_type": "code",
      "source": [
        "string1 = input()\n",
        "string2 = string1[::-1]\n",
        "\n",
        "if string1 == string2:\n",
        "  print(\"palindrome\")\n",
        "else:\n",
        "  print(\"not pallindrome\")"
      ],
      "metadata": {
        "colab": {
          "base_uri": "https://localhost:8080/"
        },
        "id": "aMIKrJYd1dUg",
        "outputId": "ae4a7def-f88d-49da-9d40-d7d1a6fdc84e"
      },
      "execution_count": 3,
      "outputs": [
        {
          "output_type": "stream",
          "name": "stdout",
          "text": [
            "abcdcba\n",
            "palindrome\n"
          ]
        }
      ]
    },
    {
      "cell_type": "markdown",
      "source": [
        "**3. Write code to Calculate frequency of characters in a string**"
      ],
      "metadata": {
        "id": "zhsLpu5h2-Ba"
      }
    },
    {
      "cell_type": "code",
      "source": [
        "string1 = input()\n",
        "char_freq = {}\n",
        "for i in string1:\n",
        "  if i in char_freq:\n",
        "    char_freq[i] +=1\n",
        "  else:\n",
        "    char_freq[i] = 1\n",
        "print(char_freq)"
      ],
      "metadata": {
        "colab": {
          "base_uri": "https://localhost:8080/"
        },
        "id": "lMdKr8fW3YHf",
        "outputId": "a620ea35-239b-40f7-c360-b677758c3f74"
      },
      "execution_count": 4,
      "outputs": [
        {
          "output_type": "stream",
          "name": "stdout",
          "text": [
            "aashi\n",
            "{'a': 2, 's': 1, 'h': 1, 'i': 1}\n"
          ]
        }
      ]
    },
    {
      "cell_type": "markdown",
      "source": [
        "**4. Write a code to reverse a number**"
      ],
      "metadata": {
        "id": "4SlH_Iwf7vAy"
      }
    },
    {
      "cell_type": "code",
      "source": [
        "num = int(input())\n",
        "temp = num\n",
        "reverse = 0\n",
        "while num > 0:\n",
        "  remainder = num%10\n",
        "  reverse = reverse*10 + remainder\n",
        "  num = num//10\n",
        "print (f\"reverse of {temp} is {reverse}\")\n"
      ],
      "metadata": {
        "colab": {
          "base_uri": "https://localhost:8080/"
        },
        "id": "1i9-a50q8cHq",
        "outputId": "166576de-58c0-4a07-9d88-0b4189a813df"
      },
      "execution_count": 5,
      "outputs": [
        {
          "output_type": "stream",
          "name": "stdout",
          "text": [
            "234\n",
            "reverse of 234 is 432\n"
          ]
        }
      ]
    },
    {
      "cell_type": "markdown",
      "source": [
        "** 5. Gcd of two numbers**"
      ],
      "metadata": {
        "id": "2-RKZOH2S55g"
      }
    },
    {
      "cell_type": "code",
      "source": [
        "num1 = int(input())\n",
        "num2 = int(input())\n",
        "if num1 > num2:\n",
        "  small = num2\n",
        "else:\n",
        "  small = num1\n",
        "for i in range(1,small+1):\n",
        "  if (num1 % i == 0) and (num2 % i == 0):\n",
        "    gcd = i\n",
        "print(f\"GCD of {num1} and {num2} is {gcd}\")"
      ],
      "metadata": {
        "colab": {
          "base_uri": "https://localhost:8080/"
        },
        "id": "maSTJLGoUNGm",
        "outputId": "527df99d-b8fb-4356-c804-cf52b28087d6"
      },
      "execution_count": 7,
      "outputs": [
        {
          "output_type": "stream",
          "name": "stdout",
          "text": [
            "24\n",
            "48\n",
            "GCD of 24 and 48 is 24\n"
          ]
        }
      ]
    },
    {
      "cell_type": "markdown",
      "source": [
        "**6. Write code of  Perfect number**"
      ],
      "metadata": {
        "id": "5ys1l8dbVuN3"
      }
    },
    {
      "cell_type": "code",
      "source": [
        "num = int(input())\n",
        "sump = 0\n",
        "for i in range (1,num):\n",
        "  if (num % i == 0):\n",
        "    sump += i\n",
        "if sump == num:\n",
        "  print(\"is a perfect number\")\n",
        "else:\n",
        "  print(\"not a perfect number\")"
      ],
      "metadata": {
        "colab": {
          "base_uri": "https://localhost:8080/"
        },
        "id": "CfCfO_oLWM3o",
        "outputId": "d3b68d6c-fed5-47ba-d973-a5c68bbf8d40"
      },
      "execution_count": 8,
      "outputs": [
        {
          "output_type": "stream",
          "name": "stdout",
          "text": [
            "28\n",
            "is a perfect number\n"
          ]
        }
      ]
    },
    {
      "cell_type": "markdown",
      "source": [
        "**7. Write code to Check if two strings are Anagram or not**"
      ],
      "metadata": {
        "id": "vujirMBrYiyJ"
      }
    },
    {
      "cell_type": "code",
      "source": [
        "string1= input()\n",
        "string2 = input()\n",
        "if len(string1) != len(string2):\n",
        "  print(\"Strings are not anagram\")\n",
        "else:\n",
        "  string1 = sorted(string1)\n",
        "  string2 = sorted(string2)\n",
        "  if string1 == string2:\n",
        "    print(\"Strings are anagrams\")\n",
        "  else:\n",
        "    print(\"Strings are not anagrams\")\n",
        "\n",
        "\n",
        "\n"
      ],
      "metadata": {
        "colab": {
          "base_uri": "https://localhost:8080/"
        },
        "id": "6Yqh6m6nYh9V",
        "outputId": "228fc8da-f924-469b-de6c-7c163e91e718"
      },
      "execution_count": 9,
      "outputs": [
        {
          "output_type": "stream",
          "name": "stdout",
          "text": [
            "act\n",
            "cat\n",
            "Strings are anagrams\n"
          ]
        }
      ]
    },
    {
      "cell_type": "markdown",
      "source": [
        "**8. Write to code to check whether a given year is leap year or not**"
      ],
      "metadata": {
        "id": "nRFcr9ssby7K"
      }
    },
    {
      "cell_type": "code",
      "source": [
        "year = int(input())\n",
        "if year % 400 == 0:\n",
        "  print(\"leap year\")\n",
        "else:\n",
        "  if year % 100 == 0:\n",
        "    print(\"not a leap year\")\n",
        "  else:\n",
        "\n",
        "    if year % 4 == 0:\n",
        "      print(\"leap year\")\n",
        "    else:\n",
        "      print(\"not a lep yaer\")\n"
      ],
      "metadata": {
        "colab": {
          "base_uri": "https://localhost:8080/"
        },
        "id": "qBjKWLD3cmr7",
        "outputId": "2725a63d-c24a-4e8f-cbad-ae5ebe5b9068"
      },
      "execution_count": 10,
      "outputs": [
        {
          "output_type": "stream",
          "name": "stdout",
          "text": [
            "2400\n",
            "leap year\n"
          ]
        }
      ]
    },
    {
      "cell_type": "markdown",
      "source": [
        "**9. Find non-repeating characters in a string**"
      ],
      "metadata": {
        "id": "LY48RwojhsQB"
      }
    },
    {
      "cell_type": "code",
      "source": [
        "string = input()\n",
        "\n",
        "for i in string:\n",
        "  count = 0\n",
        "  for j in string:\n",
        "    if i == j:\n",
        "      count += 1\n",
        "    if count > 1:\n",
        "      break\n",
        "  if count == 1:\n",
        "    print(i,end =\" \")\n"
      ],
      "metadata": {
        "colab": {
          "base_uri": "https://localhost:8080/"
        },
        "id": "goLepEzeh04W",
        "outputId": "2654428e-d3ed-44ab-de95-f83dc7a127d4"
      },
      "execution_count": 11,
      "outputs": [
        {
          "output_type": "stream",
          "name": "stdout",
          "text": [
            "aashi\n",
            "s h i "
          ]
        }
      ]
    },
    {
      "cell_type": "markdown",
      "source": [
        "**10. Write a code to find the factorial of a number**"
      ],
      "metadata": {
        "id": "zSa5wvWAmj_o"
      }
    },
    {
      "cell_type": "code",
      "source": [
        "num = int(input())\n",
        "fact = 1\n",
        "for i in range(2,num+1):\n",
        "  fact *= i\n",
        "print(fact)\n"
      ],
      "metadata": {
        "colab": {
          "base_uri": "https://localhost:8080/"
        },
        "id": "-6uR35rHml7J",
        "outputId": "f1d2ab16-69af-4cad-cf69-648f6cbf7144"
      },
      "execution_count": 12,
      "outputs": [
        {
          "output_type": "stream",
          "name": "stdout",
          "text": [
            "6\n",
            "720\n"
          ]
        }
      ]
    },
    {
      "cell_type": "markdown",
      "source": [
        "**11. Write a program to find the sum of Natural Numbers using Recursion.**"
      ],
      "metadata": {
        "id": "cdOJvtI5nlzb"
      }
    },
    {
      "cell_type": "code",
      "source": [
        "\n",
        "num = int(input())\n",
        "def getnum(num):\n",
        "  if num == 1:\n",
        "    return 1\n",
        "  else:\n",
        "    return (num + getnum(num-1))\n",
        "print(getnum(num))\n"
      ],
      "metadata": {
        "colab": {
          "base_uri": "https://localhost:8080/"
        },
        "id": "wdTKlfgenpyp",
        "outputId": "2e7bd3d0-7a64-41f9-e9ec-791b3d884fa0"
      },
      "execution_count": 13,
      "outputs": [
        {
          "output_type": "stream",
          "name": "stdout",
          "text": [
            "5\n",
            "15\n"
          ]
        }
      ]
    },
    {
      "cell_type": "markdown",
      "source": [
        "**12. Write a program to check whether a character is a vowel or consonant**"
      ],
      "metadata": {
        "id": "JORa7sNhpABx"
      }
    },
    {
      "cell_type": "code",
      "source": [
        "char = input()\n",
        "vowels = \"AEIOUaeiou\"\n",
        "if char in vowels:\n",
        "    print(\"vowel\")\n",
        "else :\n",
        "  print(\"consonant\")\n"
      ],
      "metadata": {
        "colab": {
          "base_uri": "https://localhost:8080/"
        },
        "id": "SA2lag0ppDsa",
        "outputId": "873cfa96-fc7e-4544-e694-38418aa9daa6"
      },
      "execution_count": 14,
      "outputs": [
        {
          "output_type": "stream",
          "name": "stdout",
          "text": [
            "z\n",
            "consonant\n"
          ]
        }
      ]
    },
    {
      "cell_type": "markdown",
      "source": [
        "**13. Write a code to find Find the ASCII value of a character**"
      ],
      "metadata": {
        "id": "dim7HLxEqEYN"
      }
    },
    {
      "cell_type": "code",
      "source": [
        "char = input()\n",
        "ascii_value = ord(char)\n",
        "print(ascii_value)"
      ],
      "metadata": {
        "colab": {
          "base_uri": "https://localhost:8080/"
        },
        "id": "le6WpjOfqGrE",
        "outputId": "8c5aa6eb-5311-40b6-9a01-339167b5cf69"
      },
      "execution_count": 15,
      "outputs": [
        {
          "output_type": "stream",
          "name": "stdout",
          "text": [
            "a\n",
            "97\n"
          ]
        }
      ]
    },
    {
      "cell_type": "markdown",
      "source": [
        "**14. Write a code to Print the smallest element of the array**"
      ],
      "metadata": {
        "id": "htrda765qmnT"
      }
    },
    {
      "cell_type": "code",
      "source": [
        "arr = [10,9,8,87,18,19]\n",
        "mini = arr[0]\n",
        "for i in range (len(arr)):\n",
        "  if arr[i] < mini:\n",
        "    mini = arr[i]\n",
        "print(mini)"
      ],
      "metadata": {
        "colab": {
          "base_uri": "https://localhost:8080/"
        },
        "id": "ibYwI58jqssr",
        "outputId": "ceae1cf6-d017-4478-cd52-38a8a9e7bd41"
      },
      "execution_count": 16,
      "outputs": [
        {
          "output_type": "stream",
          "name": "stdout",
          "text": [
            "8\n"
          ]
        }
      ]
    },
    {
      "cell_type": "markdown",
      "source": [
        "**15. Write a Program to Find the Largest Element in an Array.**"
      ],
      "metadata": {
        "id": "wIL-RD21s1zt"
      }
    },
    {
      "cell_type": "code",
      "source": [
        "arr = [0,1,45,36,18,19]\n",
        "max = arr[0]\n",
        "for i in range (len(arr)):\n",
        "  if  arr[i]>max:\n",
        "    max = arr[i]\n",
        "print(max)\n"
      ],
      "metadata": {
        "colab": {
          "base_uri": "https://localhost:8080/"
        },
        "id": "AJpkxGNds4Ci",
        "outputId": "ffe6eba0-ad36-4e2d-ea97-0c1e3f1216ab"
      },
      "execution_count": 17,
      "outputs": [
        {
          "output_type": "stream",
          "name": "stdout",
          "text": [
            "45\n"
          ]
        }
      ]
    },
    {
      "cell_type": "markdown",
      "source": [
        "**16. Write a code to Remove space from a string**"
      ],
      "metadata": {
        "id": "i07iWq98rofK"
      }
    },
    {
      "cell_type": "code",
      "source": [
        "string = input()\n",
        "string = \"\".join(string.split())\n",
        "print(string)"
      ],
      "metadata": {
        "colab": {
          "base_uri": "https://localhost:8080/"
        },
        "id": "_lXXoFDvrqWV",
        "outputId": "5da419d5-5cee-48f0-f392-2bc6519a31bf"
      },
      "execution_count": 18,
      "outputs": [
        {
          "output_type": "stream",
          "name": "stdout",
          "text": [
            "abc def ghi\n",
            "abcdefghi\n"
          ]
        }
      ]
    },
    {
      "cell_type": "markdown",
      "source": [
        "**17. Write a Program to Find out the Sum of Digits of a Number.**"
      ],
      "metadata": {
        "id": "1Ex4AT26r95i"
      }
    },
    {
      "cell_type": "code",
      "source": [
        "num = input()\n",
        "sum = 0\n",
        "for i in num:\n",
        "  sum+= int(i)\n",
        "print(sum)"
      ],
      "metadata": {
        "colab": {
          "base_uri": "https://localhost:8080/"
        },
        "id": "OP4OoPV1sN0a",
        "outputId": "d963f24d-5722-4052-8758-d7b708bfdbc4"
      },
      "execution_count": 19,
      "outputs": [
        {
          "output_type": "stream",
          "name": "stdout",
          "text": [
            "234\n",
            "9\n"
          ]
        }
      ]
    }
  ]
}